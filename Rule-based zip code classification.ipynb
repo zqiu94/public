{
 "cells": [
  {
   "cell_type": "code",
   "execution_count": 1,
   "id": "49414194",
   "metadata": {},
   "outputs": [],
   "source": [
    "# reasonings:\n",
    "# 1. CNN is an overkill for this task. \n",
    "# 2. rule-based algo is more suitable for this task, it has the advantage of knowing the pattern\n",
    "# 3. presidio also uses rule-based pattern matching: https://github.com/microsoft/presidio/tree/main/presidio-analyzer/presidio_analyzer/predefined_recognizers\n"
   ]
  },
  {
   "cell_type": "markdown",
   "id": "9d2d1c49",
   "metadata": {},
   "source": [
    "# 1. Zip Code Recognizer"
   ]
  },
  {
   "cell_type": "code",
   "execution_count": 2,
   "id": "59866ab4",
   "metadata": {},
   "outputs": [],
   "source": [
    "# pip install zipcodes\n",
    "import zipcodes\n",
    "import pandas as pd\n",
    "import random\n",
    "import re\n",
    "\n",
    "# the train data has 42633 records\n",
    "train_data = pd.read_csv('zip_code_database.csv', dtype='object')\n",
    "# the test data is your raw data, and it has 33122 records, you can use any test data you want\n",
    "test_data = pd.read_csv('uszips.csv', dtype='object')\n"
   ]
  },
  {
   "cell_type": "code",
   "execution_count": 3,
   "id": "0e5efd14",
   "metadata": {},
   "outputs": [],
   "source": [
    "# sets of vilid zip codes and cities from the tranning data\n",
    "valid_zip = set(train_data['zip'].tolist())\n",
    "valid_city = set(train_data['primary_city'].tolist())\n",
    "valid_zip = set([x.zfill(5) for x in valid_zip])"
   ]
  },
  {
   "cell_type": "code",
   "execution_count": 4,
   "id": "8b0231d2",
   "metadata": {},
   "outputs": [],
   "source": [
    "def predict_zip_column_index(test_data):\n",
    "    # matching_num is the list to store how many records are vilid zip codes in each column\n",
    "    matching_nums = []\n",
    "\n",
    "    # iterate each column\n",
    "    for column in test_data:\n",
    "        count = 0\n",
    "        # iterate each value in th ecolumn\n",
    "        for i, row_value in test_data[column].iteritems():\n",
    "            if re.fullmatch('\\d\\d\\d\\d\\d', str(row_value)) or re.fullmatch('\\d\\d\\d\\d\\d-\\d\\d\\d\\d', str(row_value)):\n",
    "            # if len(str(row_value)) == 5 and str(row_value).isdigit():\n",
    "                # if zipcodes.is_real(str(row_value)):\n",
    "                if row_value[:5] in valid_zip:\n",
    "                    # if it is a valid zip code, count ++\n",
    "                    count += 1\n",
    "        # append total valid zipcode count into the list\n",
    "        matching_nums.append(count)\n",
    "    print(matching_nums)\n",
    "    return 'predicted index is ' + str(matching_nums.index(max(matching_nums)))"
   ]
  },
  {
   "cell_type": "code",
   "execution_count": 5,
   "id": "976c1885",
   "metadata": {},
   "outputs": [
    {
     "name": "stdout",
     "output_type": "stream",
     "text": [
      "[33121, 0, 0, 0, 0, 0, 0, 0, 4342, 14, 20243, 0, 0, 0, 14923, 0, 0, 0]\n"
     ]
    },
    {
     "data": {
      "text/plain": [
       "'predicted index is 0'"
      ]
     },
     "execution_count": 5,
     "metadata": {},
     "output_type": "execute_result"
    }
   ],
   "source": [
    "predict_zip_column_index(test_data)\n",
    "# matching_nums\n",
    "# zip, lat, lng, city, state_id, state_name, zcta, parent_zcta, population, density, county_fips, county_name, county_weights, county_names_all, county_fips_all, imprecise, military, timezone\n",
    "# [33121, 0, 0, 0, 0, 0, 0, 0, 4342, 14, 20243, 0, 0, 0, 14923, 0, 0, 0]\n",
    "# it is a good test dataset because you can see the noises like population and county_fips are similar to a zipcode. \n",
    "# we can see index 0, which is the zip code, has the highest matching count, so it is correctely classfied as zip code"
   ]
  },
  {
   "cell_type": "markdown",
   "id": "30e2c075",
   "metadata": {},
   "source": [
    "# 2. Missing data in zip code"
   ]
  },
  {
   "cell_type": "code",
   "execution_count": 6,
   "id": "f6335bf6",
   "metadata": {},
   "outputs": [],
   "source": [
    "test_data_copy = test_data.copy()"
   ]
  },
  {
   "cell_type": "code",
   "execution_count": 7,
   "id": "7b5fabec",
   "metadata": {},
   "outputs": [],
   "source": [
    "# 10% missing rate\n",
    "rate_persent = 10\n",
    "row_num = len(test_data_copy) * rate_persent // 100\n",
    "selected_rows = random.sample(range(len(test_data_copy)), row_num)\n",
    "len(selected_rows) # 1656 missing values\n",
    "for row in selected_rows:\n",
    "     test_data_copy['zip'][row] = ''"
   ]
  },
  {
   "cell_type": "code",
   "execution_count": 8,
   "id": "3f852896",
   "metadata": {},
   "outputs": [
    {
     "name": "stdout",
     "output_type": "stream",
     "text": [
      "[29809, 0, 0, 0, 0, 0, 0, 0, 4342, 14, 20243, 0, 0, 0, 14923, 0, 0, 0]\n"
     ]
    },
    {
     "data": {
      "text/plain": [
       "'predicted index is 0'"
      ]
     },
     "execution_count": 8,
     "metadata": {},
     "output_type": "execute_result"
    }
   ],
   "source": [
    "predict_zip_column_index(test_data_copy)"
   ]
  },
  {
   "cell_type": "code",
   "execution_count": 9,
   "id": "87c4bed5",
   "metadata": {},
   "outputs": [],
   "source": [
    "# missing value does not affect the perfermance as long as the count of the remaining rows is highers than other column "
   ]
  },
  {
   "cell_type": "markdown",
   "id": "0cf40d16",
   "metadata": {},
   "source": [
    "### Note: the above should be sufficient enough for zip code classfication.\n",
    "### However, bind with other columns like cities can increase the confidence.\n",
    "### Nevertheless, it doesn't hurt if city column is not available."
   ]
  },
  {
   "cell_type": "markdown",
   "id": "24a31b97",
   "metadata": {},
   "source": [
    "# 2. City Recognizer"
   ]
  },
  {
   "cell_type": "code",
   "execution_count": 10,
   "id": "77017336",
   "metadata": {},
   "outputs": [],
   "source": [
    "def predict_city_column_index(test_data):\n",
    "    # matching_num is the list to store how many records are vilid city names in each column\n",
    "    matching_nums = []\n",
    "\n",
    "    # iterate each column\n",
    "    for column in test_data:\n",
    "        count = 0\n",
    "        # iterate each value in th ecolumn\n",
    "        for i, row_value in test_data[column].iteritems():\n",
    "            if row_value in valid_city:\n",
    "                # if it is a city name, count ++\n",
    "                count += 1\n",
    "        # append total city name count into the list\n",
    "        matching_nums.append(count)\n",
    "    print(matching_nums)\n",
    "    return 'predicted index is ' + str(matching_nums.index(max(matching_nums)))"
   ]
  },
  {
   "cell_type": "code",
   "execution_count": 11,
   "id": "c7b5d2d0",
   "metadata": {},
   "outputs": [
    {
     "name": "stdout",
     "output_type": "stream",
     "text": [
      "[0, 0, 0, 32947, 0, 13998, 0, 0, 0, 0, 0, 26747, 0, 19369, 0, 0, 0, 0]\n"
     ]
    },
    {
     "data": {
      "text/plain": [
       "'predicted index is 3'"
      ]
     },
     "execution_count": 11,
     "metadata": {},
     "output_type": "execute_result"
    }
   ],
   "source": [
    "predict_city_column_index(test_data)"
   ]
  },
  {
   "cell_type": "markdown",
   "id": "8c19e8d4",
   "metadata": {},
   "source": [
    "### Note: need city name to zip code data for the next step\n",
    "### city names may have duplicates (not one to one maping)"
   ]
  },
  {
   "cell_type": "markdown",
   "id": "9f2ac0fe",
   "metadata": {},
   "source": [
    "# 4. use state zip prefix to increase the condifence of the rule-based model"
   ]
  },
  {
   "cell_type": "code",
   "execution_count": 12,
   "id": "468f459d",
   "metadata": {},
   "outputs": [],
   "source": [
    "zip_to_state = {}\n",
    "zip_code = train_data['zip']\n",
    "state = train_data['state']"
   ]
  },
  {
   "cell_type": "code",
   "execution_count": 13,
   "id": "6f2fbc68",
   "metadata": {},
   "outputs": [],
   "source": [
    "# zipcode tp state mapping\n",
    "for z, s in zip(zip_code, state):\n",
    "    zip_to_state[z] = s"
   ]
  },
  {
   "cell_type": "code",
   "execution_count": 14,
   "id": "eea9e8ad",
   "metadata": {},
   "outputs": [],
   "source": [
    "state_prefix = {}"
   ]
  },
  {
   "cell_type": "code",
   "execution_count": 15,
   "id": "1c9f3f51",
   "metadata": {},
   "outputs": [],
   "source": [
    "# state to zip prefix mapping\n",
    "for z, s in zip_to_state.items():\n",
    "    if s not in state_prefix:\n",
    "        state_prefix[s] = [z[:3]]\n",
    "    else:\n",
    "        if z[:3] not in state_prefix[s]:\n",
    "            state_prefix[s].append(z[:3])"
   ]
  },
  {
   "cell_type": "code",
   "execution_count": 23,
   "id": "215e38fb",
   "metadata": {},
   "outputs": [
    {
     "name": "stdout",
     "output_type": "stream",
     "text": [
      "[33121, 0, 0, 0, 0, 0, 0, 0, 163, 2, 0, 0, 0, 0, 0, 0, 0, 0]\n"
     ]
    },
    {
     "data": {
      "text/plain": [
       "'predicted index is 0'"
      ]
     },
     "execution_count": 23,
     "metadata": {},
     "output_type": "execute_result"
    }
   ],
   "source": [
    "classfied_state_column = 'state_id'\n",
    "\n",
    "def predict_zip_column_index_enhanced(test_data, classfied_state_column):\n",
    "    # matching_num is the list to store how many records are vilid zip codes in each column\n",
    "    matching_nums = []\n",
    "\n",
    "    # iterate each column\n",
    "    for column in test_data:\n",
    "        count = 0\n",
    "        # iterate each value in th ecolumn\n",
    "        for i, row_value in test_data[column].iteritems():\n",
    "            if re.fullmatch('\\d\\d\\d\\d\\d', str(row_value)) or re.fullmatch('\\d\\d\\d\\d\\d-\\d\\d\\d\\d', str(row_value)):\n",
    "                if row_value[:5] in valid_zip:\n",
    "                    # check prefix\n",
    "                    if test_data[classfied_state_column][i] in state_prefix:\n",
    "                        if row_value[:3] in state_prefix[test_data[classfied_state_column][i]]:\n",
    "                            count += 1\n",
    "        # append total valid zipcode count into the list\n",
    "        matching_nums.append(count)\n",
    "    print(matching_nums)\n",
    "    return 'predicted index is ' + str(matching_nums.index(max(matching_nums)))\n",
    "\n",
    "# time complexity O(mn), where m is the length of the records, n is the length of the columns\n",
    "predict_zip_column_index_enhanced(test_data, classfied_state_column)"
   ]
  },
  {
   "cell_type": "markdown",
   "id": "4ce726e3",
   "metadata": {},
   "source": [
    "### previous count: [33121, 0, 0, 0, 0, 0, 0, 0, 4342, 14, 20243, 0, 0, 0, 14923, 0, 0, 0]\n",
    "### current count using zip prefix: [33121, 0, 0, 0, 0, 0, 0, 0, 163, 2, 0, 0, 0, 0, 0, 0, 0, 0]\n",
    "### this enhanced edition is competent to filter noices(values that are similar to zip code) in the dataset"
   ]
  },
  {
   "cell_type": "markdown",
   "id": "f1d8a43b",
   "metadata": {},
   "source": [
    "# 5. Generate fake test data set"
   ]
  },
  {
   "cell_type": "code",
   "execution_count": 24,
   "id": "72b5e8a5",
   "metadata": {},
   "outputs": [],
   "source": [
    "from faker import Faker\n",
    "fake = Faker()"
   ]
  },
  {
   "cell_type": "code",
   "execution_count": 25,
   "id": "71f8b447",
   "metadata": {},
   "outputs": [],
   "source": [
    "# prefix to state mapping\n",
    "prefix_to_state = {}\n",
    "for k, v in state_prefix.items():\n",
    "    for i in v:\n",
    "        prefix_to_state[i] = k"
   ]
  },
  {
   "cell_type": "code",
   "execution_count": 26,
   "id": "fffbff13",
   "metadata": {},
   "outputs": [],
   "source": [
    "# generate random zip code and state\n",
    "random_zip_code = [fake.postcode() for x in range (10000)]\n",
    "random_state = []\n",
    "for i in range(len(random_zip_code)):\n",
    "    if random_zip_code[i][:3] in prefix_to_state:\n",
    "        random_state.append(prefix_to_state[random_zip_code[i][:3]])\n",
    "    else:\n",
    "        random_state.append('')"
   ]
  },
  {
   "cell_type": "code",
   "execution_count": 27,
   "id": "1145bcd0",
   "metadata": {},
   "outputs": [],
   "source": [
    "# generate the fake dataset\n",
    "fake_data = [ {'record_id': 'dba ' + str(x), 'first_name': fake.first_name(), 'last_name': fake.last_name(), 'ssn': fake.ssn(), 'zip':random_zip_code[x], 'phone': fake.phone_number(), 'dob': fake.date_of_birth(minimum_age=18, maximum_age=60), 'address': fake.street_address(), 'city': fake.city(), 'state': random_state[x], 'random_int': str(random.randint(10000, 99999))} for x in range(10000)]"
   ]
  },
  {
   "cell_type": "code",
   "execution_count": 28,
   "id": "b89f2195",
   "metadata": {},
   "outputs": [
    {
     "data": {
      "text/html": [
       "<div>\n",
       "<style scoped>\n",
       "    .dataframe tbody tr th:only-of-type {\n",
       "        vertical-align: middle;\n",
       "    }\n",
       "\n",
       "    .dataframe tbody tr th {\n",
       "        vertical-align: top;\n",
       "    }\n",
       "\n",
       "    .dataframe thead th {\n",
       "        text-align: right;\n",
       "    }\n",
       "</style>\n",
       "<table border=\"1\" class=\"dataframe\">\n",
       "  <thead>\n",
       "    <tr style=\"text-align: right;\">\n",
       "      <th></th>\n",
       "      <th>record_id</th>\n",
       "      <th>first_name</th>\n",
       "      <th>last_name</th>\n",
       "      <th>ssn</th>\n",
       "      <th>zip</th>\n",
       "      <th>phone</th>\n",
       "      <th>dob</th>\n",
       "      <th>address</th>\n",
       "      <th>city</th>\n",
       "      <th>state</th>\n",
       "      <th>random_int</th>\n",
       "    </tr>\n",
       "  </thead>\n",
       "  <tbody>\n",
       "    <tr>\n",
       "      <th>0</th>\n",
       "      <td>dba 0</td>\n",
       "      <td>Alyssa</td>\n",
       "      <td>Hall</td>\n",
       "      <td>813-69-0833</td>\n",
       "      <td>88673</td>\n",
       "      <td>307-210-7529</td>\n",
       "      <td>1963-12-15</td>\n",
       "      <td>578 Garcia Hollow Apt. 539</td>\n",
       "      <td>Dillonburgh</td>\n",
       "      <td></td>\n",
       "      <td>39195</td>\n",
       "    </tr>\n",
       "    <tr>\n",
       "      <th>1</th>\n",
       "      <td>dba 1</td>\n",
       "      <td>Kristy</td>\n",
       "      <td>Winters</td>\n",
       "      <td>874-52-6121</td>\n",
       "      <td>06616</td>\n",
       "      <td>+1-259-547-6406x6683</td>\n",
       "      <td>1960-10-10</td>\n",
       "      <td>42713 Wilson Path</td>\n",
       "      <td>West Cindyton</td>\n",
       "      <td>CT</td>\n",
       "      <td>70026</td>\n",
       "    </tr>\n",
       "  </tbody>\n",
       "</table>\n",
       "</div>"
      ],
      "text/plain": [
       "  record_id first_name last_name          ssn    zip                 phone  \\\n",
       "0     dba 0     Alyssa      Hall  813-69-0833  88673          307-210-7529   \n",
       "1     dba 1     Kristy   Winters  874-52-6121  06616  +1-259-547-6406x6683   \n",
       "\n",
       "          dob                     address           city state random_int  \n",
       "0  1963-12-15  578 Garcia Hollow Apt. 539    Dillonburgh            39195  \n",
       "1  1960-10-10           42713 Wilson Path  West Cindyton    CT      70026  "
      ]
     },
     "execution_count": 28,
     "metadata": {},
     "output_type": "execute_result"
    }
   ],
   "source": [
    "fake_data = pd.DataFrame(fake_data)\n",
    "fake_data.head(2)\n",
    "# state column has missing values"
   ]
  },
  {
   "cell_type": "code",
   "execution_count": 29,
   "id": "811b1323",
   "metadata": {},
   "outputs": [
    {
     "name": "stdout",
     "output_type": "stream",
     "text": [
      "[0, 0, 0, 0, 4254, 0, 0, 0, 0, 0, 105]\n"
     ]
    },
    {
     "data": {
      "text/plain": [
       "'predicted index is 4'"
      ]
     },
     "execution_count": 29,
     "metadata": {},
     "output_type": "execute_result"
    }
   ],
   "source": [
    "predict_zip_column_index_enhanced(fake_data, 'state')"
   ]
  },
  {
   "cell_type": "markdown",
   "id": "44b955f3",
   "metadata": {},
   "source": [
    "### the result is greate"
   ]
  },
  {
   "cell_type": "code",
   "execution_count": null,
   "id": "191e9410",
   "metadata": {},
   "outputs": [],
   "source": []
  }
 ],
 "metadata": {
  "kernelspec": {
   "display_name": "Python 3",
   "language": "python",
   "name": "python3"
  },
  "language_info": {
   "codemirror_mode": {
    "name": "ipython",
    "version": 3
   },
   "file_extension": ".py",
   "mimetype": "text/x-python",
   "name": "python",
   "nbconvert_exporter": "python",
   "pygments_lexer": "ipython3",
   "version": "3.9.4"
  }
 },
 "nbformat": 4,
 "nbformat_minor": 5
}
